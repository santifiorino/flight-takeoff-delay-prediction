{
 "cells": [
  {
   "attachments": {},
   "cell_type": "markdown",
   "metadata": {},
   "source": [
    "# Predicting Flight Takeoff Delays:\n",
    "* An analysis of Feature Engineering, Balancing, Encoding, and Machine Learning Models for Predicting Flight Takeoff Delays"
   ]
  },
  {
   "attachments": {},
   "cell_type": "markdown",
   "metadata": {},
   "source": [
    "Import libraries"
   ]
  },
  {
   "cell_type": "code",
   "execution_count": null,
   "metadata": {},
   "outputs": [],
   "source": [
    "import numpy as np\n",
    "import pandas as pd\n",
    "import matplotlib.pyplot as plt"
   ]
  },
  {
   "attachments": {},
   "cell_type": "markdown",
   "metadata": {},
   "source": [
    "## Data Cleaning and Feature Engineering\n",
    "* Preparing the dataset for machine learning modelings"
   ]
  },
  {
   "attachments": {},
   "cell_type": "markdown",
   "metadata": {},
   "source": [
    "Load flights dataset"
   ]
  },
  {
   "cell_type": "code",
   "execution_count": null,
   "metadata": {},
   "outputs": [],
   "source": [
    "df = pd.read_csv('dataset_SCL.csv')\n",
    "df.head()"
   ]
  },
  {
   "cell_type": "code",
   "execution_count": null,
   "metadata": {},
   "outputs": [],
   "source": [
    "# remove rows where flight_num_pre != flight_num_post\n",
    "df = df[df['flight_num_pre'] == df['flight_num_post']]"
   ]
  },
  {
   "attachments": {},
   "cell_type": "markdown",
   "metadata": {},
   "source": [
    "The flights are all from Santiago, so the origin-related columns are not necessary"
   ]
  },
  {
   "cell_type": "code",
   "execution_count": null,
   "metadata": {},
   "outputs": [],
   "source": [
    "print(df['origin_pre'].unique())\n",
    "print(df['origin_post'].unique())\n",
    "print(df['origin_city'].unique())\n",
    "df = df.drop(['origin_pre', 'origin_post', 'origin_city'], axis=1)"
   ]
  },
  {
   "cell_type": "code",
   "execution_count": null,
   "metadata": {},
   "outputs": [],
   "source": [
    "# Convert dates to datetime format\n",
    "df['date_pre'] = pd.to_datetime(df['date_pre'])\n",
    "df['date_post'] = pd.to_datetime(df['date_post'])\n",
    "\n",
    "# Convert international to binary (I = International, N = National)\n",
    "df['international'] = df['international'].map({'I': 1, 'N': 0})\n",
    "df.head()"
   ]
  },
  {
   "cell_type": "code",
   "execution_count": null,
   "metadata": {},
   "outputs": [],
   "source": [
    "# Separate date into 4 features\n",
    "df[\"day\"] = df[\"date_pre\"].dt.day\n",
    "df[\"month\"] = df[\"date_pre\"].dt.month\n",
    "df[\"weekday\"] = df[\"date_pre\"].dt.weekday\n",
    "df.head()"
   ]
  },
  {
   "cell_type": "code",
   "execution_count": null,
   "metadata": {},
   "outputs": [],
   "source": [
    "high_season_conditions = [\n",
    "    (((df[\"date_pre\"].dt.month == 12) & (df[\"date_pre\"].dt.day >= 15)) |\n",
    "    ((df[\"date_pre\"].dt.month == 1) | (df[\"date_pre\"].dt.month == 2)) |\n",
    "    ((df[\"date_pre\"].dt.month == 3) & (df[\"date_pre\"].dt.day <= 3))),\n",
    "    ((df[\"date_pre\"].dt.month == 7) & (df[\"date_pre\"].dt.day >= 15)),\n",
    "    ((df[\"date_pre\"].dt.month == 9) & (df[\"date_pre\"].dt.day >= 11)),\n",
    "]\n",
    "df[\"high_season\"] = np.select(high_season_conditions, [True, True, True], default=False)"
   ]
  },
  {
   "cell_type": "code",
   "execution_count": null,
   "metadata": {},
   "outputs": [],
   "source": [
    "# Calculate the difference in minutes (actual takeoff - predicted takeoff)\n",
    "df['time_diff'] = (df['date_post'] - df['date_pre']).dt.total_seconds() / 60"
   ]
  },
  {
   "attachments": {},
   "cell_type": "markdown",
   "metadata": {},
   "source": [
    "If the difference is greater or equal to 15, the flight is delayed"
   ]
  },
  {
   "cell_type": "code",
   "execution_count": null,
   "metadata": {},
   "outputs": [],
   "source": [
    "df['delayed'] = df['time_diff'] >= 15"
   ]
  },
  {
   "attachments": {},
   "cell_type": "markdown",
   "metadata": {},
   "source": [
    "### External Data"
   ]
  },
  {
   "attachments": {},
   "cell_type": "markdown",
   "metadata": {},
   "source": [
    "Distances from Santiago's Airport to every destiny"
   ]
  },
  {
   "cell_type": "code",
   "execution_count": null,
   "metadata": {},
   "outputs": [],
   "source": [
    "df_dist = pd.read_csv('external_data/airports_distances.csv')\n",
    "df = pd.merge(df, df_dist, on='dest_pre', how='left')\n",
    "df[[\"dest_pre\", \"distance\"]].sample(5)"
   ]
  },
  {
   "attachments": {},
   "cell_type": "markdown",
   "metadata": {},
   "source": [
    "## Data Analysis"
   ]
  },
  {
   "cell_type": "code",
   "execution_count": null,
   "metadata": {},
   "outputs": [],
   "source": [
    "df[\"time_diff\"].describe()"
   ]
  },
  {
   "attachments": {},
   "cell_type": "markdown",
   "metadata": {},
   "source": [
    "We can see there are time differences with negative value, up to -14. This would suggest the plane took off 14 minutes before it was programmed to. This could be an error, or maybe all the passengers already were on board, so it actually took off earlier. I'll keep those flights."
   ]
  },
  {
   "cell_type": "code",
   "execution_count": null,
   "metadata": {},
   "outputs": [],
   "source": [
    "delayed_count = df[\"delayed\"].value_counts()\n",
    "print(f\"There are {delayed_count[1]} flights with a delay of more than 15 minutes, and {delayed_count[0]} without delay.\")\n",
    "print(f\"The {round(delayed_count[1] / (delayed_count[0] + delayed_count[1]) * 100, 2)}% of the flights are delayed.\")"
   ]
  },
  {
   "cell_type": "code",
   "execution_count": null,
   "metadata": {},
   "outputs": [],
   "source": [
    "df['weekday'].value_counts().sort_index().plot(kind='bar')\n",
    "plt.xticks(np.arange(7), ('Monday', 'Tuesday', 'Wednesday', 'Thursday',\n",
    "                          'Friday', 'Saturday', 'Sunday'))\n",
    "plt.title('Amount of flights by day of the week')\n",
    "plt.xlabel('Day of the week')\n",
    "plt.ylabel('Amount of flights')\n",
    "plt.show()"
   ]
  },
  {
   "attachments": {},
   "cell_type": "markdown",
   "metadata": {},
   "source": [
    "The amount of flights of each day is quite similar"
   ]
  },
  {
   "cell_type": "code",
   "execution_count": null,
   "metadata": {},
   "outputs": [],
   "source": [
    "#df['month'].value_counts().sort_index().plot(kind='bar')\n",
    "fig, ax = plt.subplots(figsize=(10, 5))\n",
    "df['month'].value_counts().sort_index().plot(kind='bar', ax=ax)\n",
    "ax.set_xticklabels(('January', 'February', 'March', 'April', 'May', 'June',\n",
    "                    'July', 'August', 'September', 'October', 'November', 'December'))\n",
    "plt.title('Amount of flights by month')\n",
    "plt.xlabel('Month')\n",
    "plt.ylabel('Amount of flights')\n",
    "plt.show()"
   ]
  },
  {
   "cell_type": "code",
   "execution_count": null,
   "metadata": {},
   "outputs": [],
   "source": [
    "delay_rate_by_type = df.groupby(\"international\")[\"delayed\"].mean()\n",
    "print(f\"The delay rate for international flights is {round(delay_rate_by_type[1] * 100, 2)}%\")\n",
    "print(f\"The delay rate for national flights is {round(delay_rate_by_type[0] * 100, 2)}%\")"
   ]
  },
  {
   "attachments": {},
   "cell_type": "markdown",
   "metadata": {},
   "source": [
    "As expected, international flights have a higher delay rate than national flights."
   ]
  }
 ],
 "metadata": {
  "kernelspec": {
   "display_name": "Python 3",
   "language": "python",
   "name": "python3"
  },
  "language_info": {
   "codemirror_mode": {
    "name": "ipython",
    "version": 3
   },
   "file_extension": ".py",
   "mimetype": "text/x-python",
   "name": "python",
   "nbconvert_exporter": "python",
   "pygments_lexer": "ipython3",
   "version": "3.9.13"
  },
  "orig_nbformat": 4
 },
 "nbformat": 4,
 "nbformat_minor": 2
}
